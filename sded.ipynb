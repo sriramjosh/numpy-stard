{
 "cells": [
  {
   "cell_type": "code",
   "execution_count": 3,
   "id": "0de3d141",
   "metadata": {},
   "outputs": [],
   "source": [
    "import numpy as  np"
   ]
  },
  {
   "cell_type": "markdown",
   "id": "36a6569a",
   "metadata": {},
   "source": [
    "using def \n",
    " 1. Write a function, foo_1, that takes a NumPy array `arr` and returns the indices of the elements that are closest to a given target. If target is not in the given array, it should return ‘no item found’\n"
   ]
  },
  {
   "cell_type": "markdown",
   "id": "d08fa10b",
   "metadata": {},
   "source": [
    "`Input`:\n",
    "arr = np.array([3, 8, 7, 7, 7, 7, 7, 8, 7, 10])\n",
    "target = 7\n",
    "foo_1(arr, target)\n",
    "\n",
    "`Output`:\n",
    "[2 3 4 5 6 8 7 1 9 0]\n"
   ]
  },
  {
   "cell_type": "code",
   "execution_count": 68,
   "id": "6a2f89d4",
   "metadata": {},
   "outputs": [],
   "source": [
    "def foo1(arr):\n",
    "    arr = np.array([3,8,7,7,7,7,7,8,7,10])\n",
    "    if target not in arr:\n",
    "        return \"no item found\"\n",
    "        \n"
   ]
  },
  {
   "cell_type": "code",
   "execution_count": 69,
   "id": "436e60a8",
   "metadata": {},
   "outputs": [
    {
     "name": "stdout",
     "output_type": "stream",
     "text": [
      "count of indies of 7 : [2 3 4 5 6 8 1 7 9 0]\n"
     ]
    }
   ],
   "source": [
    "count_of_values = np.argsort(np.abs(arr-7))\n",
    "\n",
    "print(\"count of indies of 7 :\",count_of_values)\n"
   ]
  },
  {
   "cell_type": "code",
   "execution_count": 70,
   "id": "7f08d894",
   "metadata": {},
   "outputs": [
    {
     "data": {
      "text/plain": [
       "'no item found'"
      ]
     },
     "execution_count": 70,
     "metadata": {},
     "output_type": "execute_result"
    }
   ],
   "source": [
    "target=11\n",
    "\n",
    "foo1(arr)   "
   ]
  },
  {
   "cell_type": "markdown",
   "id": "851ee070",
   "metadata": {},
   "source": [
    "3.1 You are given a 2D NumPy array of data representing student scores. Each row represents a student, and each column represents a subject. Extract the scores of all students who scored above 90 in at least one subject. Provide the resulting array\n",
    "data = np.arr([85,89,88], rows are students\n",
    "              [78,89,94], column are subjects\n",
    "              \n",
    "              [91,87,90]\n",
    "              [87,95,84]"
   ]
  },
  {
   "cell_type": "code",
   "execution_count": 79,
   "id": "b6dfde75",
   "metadata": {},
   "outputs": [
    {
     "name": "stdout",
     "output_type": "stream",
     "text": [
      "[[78 89 94]\n",
      " [91 87 90]\n",
      " [87 95 84]]\n"
     ]
    }
   ],
   "source": [
    "data = np.array([\n",
    "    [85,89,88],\n",
    "    [78,89,94],\n",
    "    [91,87,90],\n",
    "    [87,95,84]\n",
    "])\n",
    "above_90_marks =np.any(data >90,axis =1)\n",
    "result_array = data[above_90_marks]\n",
    "print(result_array)"
   ]
  },
  {
   "cell_type": "markdown",
   "id": "2768a103",
   "metadata": {},
   "source": [
    "3.2 You are provided with a 2D NumPy array of data representing sales data for different products. Each row corresponds to a product, and each column represents the monthly sales for a specific month. Calculate the following statistics for each product: mean, median, standard deviation, and the month with the highest sales.\n",
    "\n",
    "data = np.array([\n",
    "[120,150,130,110],\n",
    "[200,180,220,250],\n",
    "[90,100,95,110],\n",
    "[300,280,320,340]])\n",
    "   "
   ]
  },
  {
   "cell_type": "code",
   "execution_count": 1,
   "id": "fdc43be1",
   "metadata": {},
   "outputs": [],
   "source": [
    "def foo(sales_data):\n",
    "    mean_values = np.mean(sales_data, axis=1)\n",
    "    median_values = np.median(sales_data, axis=1)\n",
    "    std_dev_values = np.std(sales_data, axis=1)\n",
    "    highest_sales_month = np.max(sales_data, axis=1)\n",
    "    for i in range(len(sales_data)):\n",
    "        print(f\"Product {i + 1}:\")\n",
    "        print(f\"Mean: {mean_values[i]}\")\n",
    "        print(f\"Median: {median_values[i]}\")\n",
    "        print(f\"Standard Deviation: {std_dev_values[i]}\")\n",
    "        print(f\"Month with Highest Sales: Month {highest_sales_month[i] + 1}\")\n",
    "        print()"
   ]
  },
  {
   "cell_type": "code",
   "execution_count": 4,
   "id": "d05f99b8",
   "metadata": {},
   "outputs": [],
   "source": [
    "sales_data=np.array([[120, 150, 130, 110],\n",
    "            [200, 180, 220, 250],\n",
    "            [90, 100, 95, 110],\n",
    "            [300,280,320, 340]])"
   ]
  },
  {
   "cell_type": "code",
   "execution_count": 5,
   "id": "98908fdd",
   "metadata": {},
   "outputs": [
    {
     "name": "stdout",
     "output_type": "stream",
     "text": [
      "Product 1:\n",
      "Mean: 127.5\n",
      "Median: 125.0\n",
      "Standard Deviation: 14.79019945774904\n",
      "Month with Highest Sales: Month 151\n",
      "\n",
      "Product 2:\n",
      "Mean: 212.5\n",
      "Median: 210.0\n",
      "Standard Deviation: 25.8602010819715\n",
      "Month with Highest Sales: Month 251\n",
      "\n",
      "Product 3:\n",
      "Mean: 98.75\n",
      "Median: 97.5\n",
      "Standard Deviation: 7.39509972887452\n",
      "Month with Highest Sales: Month 111\n",
      "\n",
      "Product 4:\n",
      "Mean: 310.0\n",
      "Median: 310.0\n",
      "Standard Deviation: 22.360679774997898\n",
      "Month with Highest Sales: Month 341\n",
      "\n"
     ]
    }
   ],
   "source": [
    "foo(sales_data)"
   ]
  },
  {
   "cell_type": "markdown",
   "id": "a2b5b240",
   "metadata": {},
   "source": [
    "\n",
    "3.3 Create a NumPy array of size 1000 with random integers between 1 and 100. Then, use NumPy functions to find the top 10 most frequently occurring values in the array.\n"
   ]
  },
  {
   "cell_type": "code",
   "execution_count": 105,
   "id": "ccf134ce",
   "metadata": {},
   "outputs": [
    {
     "name": "stdout",
     "output_type": "stream",
     "text": [
      "[ 3 60 48 47 31 99 37 97 72 78] [17 16 15 15 15 14 14 14 14 14]\n"
     ]
    }
   ],
   "source": [
    "a =np.random.randint(1,100,1000)\n",
    "\n",
    "unique_values ,value_counts = np.unique(a,return_counts=True)\n",
    "top_10_indices = np.argsort(value_counts)[::-1][:10]\n",
    "\n",
    "top_10_values = unique_values[top_10_indices]\n",
    "top_10_counts = value_counts[top_10_indices]\n",
    "\n",
    "print(top_10_values, top_10_counts)"
   ]
  },
  {
   "cell_type": "markdown",
   "id": "e39a415a",
   "metadata": {},
   "source": [
    "## 2)\n",
    "Write a user defined function foo_2 that takes a  2,3 dim NumPy array arr and returns a new n-1 dim array, where each element is replaced without using\n",
    "\n",
    "\n",
    "of non-zero elements wrt axis.\n"
   ]
  },
  {
   "cell_type": "code",
   "execution_count": 107,
   "id": "8c1e8149",
   "metadata": {},
   "outputs": [],
   "source": [
    "def foo_2(arr, axis):\n",
    "    if arr.ndim != 2:\n",
    "        print(\"Input array must be 2-dimensional.\")\n",
    "    else:\n",
    "        x=np.where(arr != 0, 1, 0)\n",
    "        counts=np.sum(x,axis=axis)\n",
    "        return counts\n",
    "\n",
    "def foo_3(arr, axis):\n",
    "    if arr.ndim != 3:\n",
    "        print(\"Input array must be 3-dimensional.\")\n",
    "    else:\n",
    "        x=np.where(arr != 0, 1, 0)\n",
    "        counts=np.sum(x,axis=axis)\n",
    "        return counts"
   ]
  },
  {
   "cell_type": "code",
   "execution_count": 108,
   "id": "74cb8c37",
   "metadata": {},
   "outputs": [],
   "source": [
    "arr = np.array([[1, 2, 3, 4], [0, 5, 0, 0], [2, 0, 1, 0]])\n",
    "foo_2(arr, axis=0)"
   ]
  },
  {
   "cell_type": "code",
   "execution_count": null,
   "id": "c7e7fe98",
   "metadata": {},
   "outputs": [],
   "source": [
    "arr1 = np.array([[[1, 2, 3, 4], [0, 5, 0, 0], [2, 0, 1, 0]],\n",
    "                 [[2, 0, 1, 0], [0, 5, 0, 0], [1, 2, 3, 4]]])"
   ]
  },
  {
   "cell_type": "code",
   "execution_count": null,
   "id": "4c1307ed",
   "metadata": {},
   "outputs": [],
   "source": [
    "foo_3(arr1,axis=0)"
   ]
  },
  {
   "cell_type": "code",
   "execution_count": 109,
   "id": "33009ccf",
   "metadata": {},
   "outputs": [
    {
     "name": "stdout",
     "output_type": "stream",
     "text": [
      "Product 1:\n",
      "Mean: 127.5\n",
      "Median: 125.0\n",
      "Standard Deviation: 14.79019945774904\n",
      "Month with Highest Sales: Month 151\n",
      "\n",
      "Product 2:\n",
      "Mean: 212.5\n",
      "Median: 210.0\n",
      "Standard Deviation: 25.8602010819715\n",
      "Month with Highest Sales: Month 251\n",
      "\n",
      "Product 3:\n",
      "Mean: 98.75\n",
      "Median: 97.5\n",
      "Standard Deviation: 7.39509972887452\n",
      "Month with Highest Sales: Month 111\n",
      "\n",
      "Product 4:\n",
      "Mean: 310.0\n",
      "Median: 310.0\n",
      "Standard Deviation: 22.360679774997898\n",
      "Month with Highest Sales: Month 341\n",
      "\n"
     ]
    }
   ],
   "source": [
    "foo(sales_data)"
   ]
  },
  {
   "cell_type": "code",
   "execution_count": null,
   "id": "753a8520",
   "metadata": {},
   "outputs": [],
   "source": []
  }
 ],
 "metadata": {
  "kernelspec": {
   "display_name": "Python 3 (ipykernel)",
   "language": "python",
   "name": "python3"
  },
  "language_info": {
   "codemirror_mode": {
    "name": "ipython",
    "version": 3
   },
   "file_extension": ".py",
   "mimetype": "text/x-python",
   "name": "python",
   "nbconvert_exporter": "python",
   "pygments_lexer": "ipython3",
   "version": "3.11.5"
  }
 },
 "nbformat": 4,
 "nbformat_minor": 5
}
